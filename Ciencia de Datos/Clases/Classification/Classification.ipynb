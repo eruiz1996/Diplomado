{
 "cells": [
  {
   "cell_type": "markdown",
   "id": "774a729a-a568-4180-96ad-7772f5418fd0",
   "metadata": {},
   "source": [
    "## 4.5.2 Comparasión Empirica"
   ]
  },
  {
   "cell_type": "markdown",
   "id": "d20e76f9-9a63-4ac5-b840-7f5a77cccdeb",
   "metadata": {},
   "source": [
    "There were 20 training observations in each of two classes. The\n",
    "observations within each class were uncorrelated random normal variables\n",
    "with a different mean in each class. The left-hand panel of Figure 4.11 shows\n",
    "that LDA performed well in this setting, as one would expect since this is\n",
    "the model assumed by LDA. Logistic regression also performed quite well,\n",
    "since it assumes a linear decision boundary. KNN performed poorly because it paid a price in terms of variance that was not offset by a reduction in bias.\n",
    "QDA also performed worse than LDA, since it fit a more flexible classifier\n",
    "than necessary. The performance of naive Bayes was slightly better than\n",
    "QDA, because the naive Bayes assumption of independent predictors is\n",
    "correct.\n",
    "\n",
    "<img src=\"images/scene1.png\" style=\"width:350px\" />"
   ]
  },
  {
   "cell_type": "markdown",
   "id": "dfa85caf-492f-4348-aa18-c0daaf34444f",
   "metadata": {
    "tags": []
   },
   "source": [
    "Details are as in Scenario 1, except that within each class, the\n",
    "two predictors had a correlation of −0.5. The center panel of Figure 4.11\n",
    "indicates that the performance of most methods is similar to the previ\u0002ous scenario. The notable exception is naive Bayes, which performs very\n",
    "poorly here, since the naive Bayes assumption of independent predictors is\n",
    "violated.\n",
    "\n",
    "<img src=\"images/scene2.png\" style=\"width:350px\" />"
   ]
  },
  {
   "cell_type": "markdown",
   "id": "6a7778ea-822f-4e83-946f-67796b968674",
   "metadata": {},
   "source": [
    "As in the previous scenario, there is substantial negative cor\u0002relation between the predictors within each class. However, this time we\n",
    "generated X1 and X2 from the t-distribution, with 50 observations per class. t- The t-distribution has a similar shape to the normal distribution, but it distribution\n",
    "has a tendency to yield more extreme points—that is, more points that are\n",
    "far from the mean. In this setting, the decision boundary was still linear,\n",
    "and so fit into the logistic regression framework. The set-up violated the\n",
    "assumptions of LDA, since the observations were not drawn from a normal\n",
    "distribution. The right-hand panel of Figure 4.11 shows that logistic regres\u0002sion outperformed LDA, though both methods were superior to the other\n",
    "approaches. In particular, the QDA results deteriorated considerably as a\n",
    "consequence of non-normality. Naive Bayes performed very poorly because\n",
    "the independence assumption is violated.\n",
    "\n",
    "<img src=\"images/scene3.png\" style=\"width:350px\" />"
   ]
  },
  {
   "cell_type": "markdown",
   "id": "25503c40-a08f-45ee-bb19-7ba20a8c2dd7",
   "metadata": {},
   "source": [
    "The data were generated from a normal distribution, with a\n",
    "correlation of 0.5 between the predictors in the first class, and correlation of\n",
    "−0.5 between the predictors in the second class. This setup corresponded to\n",
    "the QDA assumption, and resulted in quadratic decision boundaries. The\n",
    "left-hand panel of Figure 4.12 shows that QDA outperformed all of the\n",
    "other approaches. The naive Bayes assumption of independent predictors\n",
    "is violated, so naive Bayes performs poorly.\n",
    "\n",
    "<img src=\"images/scene4.png\" style=\"width:350px\" />"
   ]
  },
  {
   "cell_type": "markdown",
   "id": "271b2a88-0d9a-4bc2-9dd9-dbf3a85f4357",
   "metadata": {},
   "source": [
    "The data were generated from a normal distribution with un\u0002correlated predictors. Then the responses were sampled from the logistic\n",
    "function applied to a complicated non-linear function of the predictors. The\n",
    "center panel of Figure 4.12 shows that both QDA and naive Bayes gave\n",
    "slightly better results than the linear methods, while the much more flexi\u0002ble KNN-CV method gave the best results. But KNN with K = 1 gave the\n",
    "worst results out of all methods. This highlights the fact that even when the\n",
    "data exhibits a complex non-linear relationship, a non-parametric method\n",
    "such as KNN can still give poor results if the level of smoothness is not\n",
    "chosen correctly.\n",
    "\n",
    "<img src=\"images/scene5.png\" style=\"width:350px\" />"
   ]
  },
  {
   "cell_type": "markdown",
   "id": "f02e0351-ddde-4e3c-b079-085f8c829ccf",
   "metadata": {},
   "source": [
    "The observations were generated from a normal distribution\n",
    "with a different diagonal covariance matrix for each class. However, the\n",
    "sample size was very small: just n = 6 in each class. Naive Bayes performed\n",
    "very well, because its assumptions are met. LDA and logistic regression\n",
    "performed poorly because the true decision boundary is non-linear, due to\n",
    "the unequal covariance matrices. QDA performed a bit worse than naive\n",
    "Bayes, because given the very small sample size, the former incurred too\n",
    "much variance in estimating the correlation between the predictors within\n",
    "each class. KNN’s performance also suffered due to the very small sample\n",
    "size.\n",
    "\n",
    "<img src=\"images/scene6.png\" style=\"width:350px\" />"
   ]
  },
  {
   "cell_type": "markdown",
   "id": "3fb14361-84aa-47aa-b66d-e13e97a6071d",
   "metadata": {},
   "source": [
    "# Ejemplo"
   ]
  },
  {
   "cell_type": "code",
   "execution_count": 8,
   "id": "103193e4-9de4-4a12-9459-63389b48062a",
   "metadata": {
    "tags": []
   },
   "outputs": [
    {
     "data": {
      "text/plain": [
       "     price         crime_rate         resid_area       air_qual     \n",
       " Min.   : 5.00   Min.   : 0.00632   Min.   :30.46   Min.   :0.3850  \n",
       " 1st Qu.:17.02   1st Qu.: 0.08205   1st Qu.:35.19   1st Qu.:0.4490  \n",
       " Median :21.20   Median : 0.25651   Median :39.69   Median :0.5380  \n",
       " Mean   :22.53   Mean   : 3.61352   Mean   :41.14   Mean   :0.5547  \n",
       " 3rd Qu.:25.00   3rd Qu.: 3.67708   3rd Qu.:48.10   3rd Qu.:0.6240  \n",
       " Max.   :50.00   Max.   :88.97620   Max.   :57.74   Max.   :0.8710  \n",
       "                                                                    \n",
       "    room_num          age             dist1            dist2       \n",
       " Min.   :3.561   Min.   :  2.90   Min.   : 1.130   Min.   : 0.920  \n",
       " 1st Qu.:5.886   1st Qu.: 45.02   1st Qu.: 2.270   1st Qu.: 1.940  \n",
       " Median :6.208   Median : 77.50   Median : 3.385   Median : 3.010  \n",
       " Mean   :6.285   Mean   : 68.57   Mean   : 3.972   Mean   : 3.629  \n",
       " 3rd Qu.:6.623   3rd Qu.: 94.08   3rd Qu.: 5.367   3rd Qu.: 4.992  \n",
       " Max.   :8.780   Max.   :100.00   Max.   :12.320   Max.   :11.930  \n",
       "                                                                   \n",
       "     dist3            dist4           teachers       poor_prop    \n",
       " Min.   : 1.150   Min.   : 0.730   Min.   :18.00   Min.   : 1.73  \n",
       " 1st Qu.: 2.232   1st Qu.: 1.940   1st Qu.:19.80   1st Qu.: 6.95  \n",
       " Median : 3.375   Median : 3.070   Median :20.95   Median :11.36  \n",
       " Mean   : 3.961   Mean   : 3.619   Mean   :21.54   Mean   :12.65  \n",
       " 3rd Qu.: 5.407   3rd Qu.: 4.985   3rd Qu.:22.60   3rd Qu.:16.95  \n",
       " Max.   :12.320   Max.   :11.940   Max.   :27.40   Max.   :37.97  \n",
       "                                                                  \n",
       "   n_hos_beds      n_hot_rooms        rainfall         parks        \n",
       " Min.   : 5.268   Min.   : 10.06   Min.   : 3.00   Min.   :0.03329  \n",
       " 1st Qu.: 6.635   1st Qu.: 11.19   1st Qu.:28.00   1st Qu.:0.04646  \n",
       " Median : 7.999   Median : 12.72   Median :39.00   Median :0.05351  \n",
       " Mean   : 7.900   Mean   : 13.04   Mean   :39.18   Mean   :0.05445  \n",
       " 3rd Qu.: 9.088   3rd Qu.: 14.17   3rd Qu.:50.00   3rd Qu.:0.06140  \n",
       " Max.   :10.876   Max.   :101.12   Max.   :60.00   Max.   :0.08671  \n",
       " NA's   :8                                                          \n",
       "      Sold       \n",
       " Min.   :0.0000  \n",
       " 1st Qu.:0.0000  \n",
       " Median :0.0000  \n",
       " Mean   :0.4545  \n",
       " 3rd Qu.:1.0000  \n",
       " Max.   :1.0000  \n",
       "                 "
      ]
     },
     "metadata": {},
     "output_type": "display_data"
    }
   ],
   "source": [
    "df <- read.csv(\"House_Price.csv\")\n",
    "df2 <- subset(df,select=-c(airport,waterbody,bus_ter))\n",
    "summary(df2)"
   ]
  },
  {
   "cell_type": "markdown",
   "id": "6681dd71-db48-4021-8b59-cee6f0412bda",
   "metadata": {
    "tags": []
   },
   "source": [
    "## Regression logistica"
   ]
  },
  {
   "cell_type": "code",
   "execution_count": 12,
   "id": "fed8c00a-fa70-4248-a813-775433444c2b",
   "metadata": {
    "tags": []
   },
   "outputs": [
    {
     "data": {
      "text/plain": [
       "\n",
       "Call:\n",
       "glm(formula = Sold ~ ., family = binomial, data = df2)\n",
       "\n",
       "Deviance Residuals: \n",
       "    Min       1Q   Median       3Q      Max  \n",
       "-2.0665  -0.9528  -0.3052   0.9608   1.9857  \n",
       "\n",
       "Coefficients:\n",
       "             Estimate Std. Error z value Pr(>|z|)    \n",
       "(Intercept) -2.882631   2.713789  -1.062 0.288138    \n",
       "price       -0.281939   0.034545  -8.162 3.31e-16 ***\n",
       "crime_rate  -0.010015   0.016407  -0.610 0.541595    \n",
       "resid_area   0.017480   0.026882   0.650 0.515542    \n",
       "air_qual    -7.276704   2.735801  -2.660 0.007819 ** \n",
       "room_num     1.137622   0.294636   3.861 0.000113 ***\n",
       "age         -0.004251   0.006691  -0.635 0.525207    \n",
       "dist1        1.247147   0.865128   1.442 0.149422    \n",
       "dist2       -1.414165   0.920892  -1.536 0.124625    \n",
       "dist3        0.713404   0.913104   0.781 0.434629    \n",
       "dist4       -0.982326   0.497270  -1.975 0.048218 *  \n",
       "teachers     0.310093   0.064566   4.803 1.57e-06 ***\n",
       "poor_prop   -0.207516   0.034533  -6.009 1.86e-09 ***\n",
       "n_hos_beds   0.178941   0.071975   2.486 0.012913 *  \n",
       "n_hot_rooms -0.054159   0.050955  -1.063 0.287842    \n",
       "rainfall    -0.001525   0.008455  -0.180 0.856893    \n",
       "parks       29.242110  24.603459   1.189 0.234622    \n",
       "---\n",
       "Signif. codes:  0 '***' 0.001 '**' 0.01 '*' 0.05 '.' 0.1 ' ' 1\n",
       "\n",
       "(Dispersion parameter for binomial family taken to be 1)\n",
       "\n",
       "    Null deviance: 686.12  on 497  degrees of freedom\n",
       "Residual deviance: 551.00  on 481  degrees of freedom\n",
       "  (8 observations deleted due to missingness)\n",
       "AIC: 585\n",
       "\n",
       "Number of Fisher Scoring iterations: 5\n"
      ]
     },
     "metadata": {},
     "output_type": "display_data"
    }
   ],
   "source": [
    "glm.fit <- glm(Sold~., data=df2, family=binomial)\n",
    "summary(glm.fit)"
   ]
  },
  {
   "cell_type": "code",
   "execution_count": 16,
   "id": "13d58b73-eb58-47da-affc-9fbee47f93dc",
   "metadata": {},
   "outputs": [],
   "source": [
    "df3 <- subset(df2, select=c(price,air_qual,room_num,teachers,poor_prop,Sold))"
   ]
  },
  {
   "cell_type": "code",
   "execution_count": 18,
   "id": "d86379bd-9883-4581-92d0-58aefaab1004",
   "metadata": {
    "tags": []
   },
   "outputs": [],
   "source": [
    "glm.fit <- glm(Sold~., data=df3, family=binomial)"
   ]
  },
  {
   "cell_type": "code",
   "execution_count": 20,
   "id": "233f77b5-4705-4a1b-8be0-a0fa9bc41c46",
   "metadata": {
    "tags": []
   },
   "outputs": [],
   "source": [
    "glm.pred_prob <- predict(glm.fit,type = \"response\")"
   ]
  },
  {
   "cell_type": "code",
   "execution_count": 98,
   "id": "349ca430-972f-45e5-9a2d-29a6a36d5ead",
   "metadata": {
    "tags": []
   },
   "outputs": [],
   "source": [
    "glm.pred <- rep(\"No\",length(df3$Sold))\n",
    "glm.pred[glm.pred_prob > 0.6] <- \"Yes\""
   ]
  },
  {
   "cell_type": "code",
   "execution_count": 99,
   "id": "63e682cd-6b6c-42ca-a7ce-c759bc81e945",
   "metadata": {
    "tags": []
   },
   "outputs": [
    {
     "data": {
      "text/plain": [
       "        \n",
       "glm.pred   0   1\n",
       "     No  236 141\n",
       "     Yes  40  89"
      ]
     },
     "metadata": {},
     "output_type": "display_data"
    }
   ],
   "source": [
    "table(glm.pred,df3$Sold)"
   ]
  },
  {
   "cell_type": "code",
   "execution_count": 33,
   "id": "42d53b1b-1aa5-4a0d-b0ef-d14c471f7514",
   "metadata": {
    "tags": []
   },
   "outputs": [
    {
     "data": {
      "image/png": "[encoded data removed]",
      "text/plain": [
       "plot without title"
      ]
     },
     "metadata": {
      "image/png": {
       "height": 420,
       "width": 420
      }
     },
     "output_type": "display_data"
    }
   ],
   "source": [
    "library(\"ggplot2\")\n",
    "ggplot(df,aes(x=df3$price,y=df3$Sold,col=glm.pred))+geom_point()"
   ]
  },
  {
   "cell_type": "code",
   "execution_count": 35,
   "id": "b0807aa5-fe0a-4abf-b335-bcda77d29937",
   "metadata": {
    "tags": []
   },
   "outputs": [
    {
     "data": {
      "text/html": [
       "<table class=\"dataframe\">\n",
       "<caption>A matrix: 6 × 6 of type dbl</caption>\n",
       "<thead>\n",
       "\t<tr><th></th><th scope=col>price</th><th scope=col>air_qual</th><th scope=col>room_num</th><th scope=col>teachers</th><th scope=col>poor_prop</th><th scope=col>Sold</th></tr>\n",
       "</thead>\n",
       "<tbody>\n",
       "\t<tr><th scope=row>price</th><td> 1.0000000</td><td>-0.429300219</td><td> 0.69630379</td><td> 0.5056546</td><td>-0.74083599</td><td>-0.154698364</td></tr>\n",
       "\t<tr><th scope=row>air_qual</th><td>-0.4293002</td><td> 1.000000000</td><td>-0.30218819</td><td>-0.1889327</td><td> 0.59087892</td><td>-0.004017022</td></tr>\n",
       "\t<tr><th scope=row>room_num</th><td> 0.6963038</td><td>-0.302188188</td><td> 1.00000000</td><td> 0.3555015</td><td>-0.61380827</td><td> 0.027147654</td></tr>\n",
       "\t<tr><th scope=row>teachers</th><td> 0.5056546</td><td>-0.188932677</td><td> 0.35550149</td><td> 1.0000000</td><td>-0.37404432</td><td> 0.042524703</td></tr>\n",
       "\t<tr><th scope=row>poor_prop</th><td>-0.7408360</td><td> 0.590878921</td><td>-0.61380827</td><td>-0.3740443</td><td> 1.00000000</td><td>-0.082776328</td></tr>\n",
       "\t<tr><th scope=row>Sold</th><td>-0.1546984</td><td>-0.004017022</td><td> 0.02714765</td><td> 0.0425247</td><td>-0.08277633</td><td> 1.000000000</td></tr>\n",
       "</tbody>\n",
       "</table>\n"
      ],
      "text/latex": [
       "A matrix: 6 × 6 of type dbl\n",
       "\\begin{tabular}{r|llllll}\n",
       "  & price & air\\_qual & room\\_num & teachers & poor\\_prop & Sold\\\\\n",
       "\\hline\n",
       "\tprice &  1.0000000 & -0.429300219 &  0.69630379 &  0.5056546 & -0.74083599 & -0.154698364\\\\\n",
       "\tair\\_qual & -0.4293002 &  1.000000000 & -0.30218819 & -0.1889327 &  0.59087892 & -0.004017022\\\\\n",
       "\troom\\_num &  0.6963038 & -0.302188188 &  1.00000000 &  0.3555015 & -0.61380827 &  0.027147654\\\\\n",
       "\tteachers &  0.5056546 & -0.188932677 &  0.35550149 &  1.0000000 & -0.37404432 &  0.042524703\\\\\n",
       "\tpoor\\_prop & -0.7408360 &  0.590878921 & -0.61380827 & -0.3740443 &  1.00000000 & -0.082776328\\\\\n",
       "\tSold & -0.1546984 & -0.004017022 &  0.02714765 &  0.0425247 & -0.08277633 &  1.000000000\\\\\n",
       "\\end{tabular}\n"
      ],
      "text/markdown": [
       "\n",
       "A matrix: 6 × 6 of type dbl\n",
       "\n",
       "| <!--/--> | price | air_qual | room_num | teachers | poor_prop | Sold |\n",
       "|---|---|---|---|---|---|---|\n",
       "| price |  1.0000000 | -0.429300219 |  0.69630379 |  0.5056546 | -0.74083599 | -0.154698364 |\n",
       "| air_qual | -0.4293002 |  1.000000000 | -0.30218819 | -0.1889327 |  0.59087892 | -0.004017022 |\n",
       "| room_num |  0.6963038 | -0.302188188 |  1.00000000 |  0.3555015 | -0.61380827 |  0.027147654 |\n",
       "| teachers |  0.5056546 | -0.188932677 |  0.35550149 |  1.0000000 | -0.37404432 |  0.042524703 |\n",
       "| poor_prop | -0.7408360 |  0.590878921 | -0.61380827 | -0.3740443 |  1.00000000 | -0.082776328 |\n",
       "| Sold | -0.1546984 | -0.004017022 |  0.02714765 |  0.0425247 | -0.08277633 |  1.000000000 |\n",
       "\n"
      ],
      "text/plain": [
       "          price      air_qual     room_num    teachers   poor_prop  \n",
       "price      1.0000000 -0.429300219  0.69630379  0.5056546 -0.74083599\n",
       "air_qual  -0.4293002  1.000000000 -0.30218819 -0.1889327  0.59087892\n",
       "room_num   0.6963038 -0.302188188  1.00000000  0.3555015 -0.61380827\n",
       "teachers   0.5056546 -0.188932677  0.35550149  1.0000000 -0.37404432\n",
       "poor_prop -0.7408360  0.590878921 -0.61380827 -0.3740443  1.00000000\n",
       "Sold      -0.1546984 -0.004017022  0.02714765  0.0425247 -0.08277633\n",
       "          Sold        \n",
       "price     -0.154698364\n",
       "air_qual  -0.004017022\n",
       "room_num   0.027147654\n",
       "teachers   0.042524703\n",
       "poor_prop -0.082776328\n",
       "Sold       1.000000000"
      ]
     },
     "metadata": {},
     "output_type": "display_data"
    }
   ],
   "source": [
    "cor(df3)"
   ]
  },
  {
   "cell_type": "markdown",
   "id": "d49f21da-a803-407c-a9be-27ca46c93167",
   "metadata": {},
   "source": [
    "## LDA"
   ]
  },
  {
   "cell_type": "code",
   "execution_count": 39,
   "id": "529f5ebf-7966-472e-8e21-38a7e127d91b",
   "metadata": {
    "tags": []
   },
   "outputs": [
    {
     "data": {
      "text/plain": [
       "Call:\n",
       "lda(Sold ~ ., data = df3)\n",
       "\n",
       "Prior probabilities of groups:\n",
       "        0         1 \n",
       "0.5454545 0.4545455 \n",
       "\n",
       "Group means:\n",
       "     price  air_qual room_num teachers poor_prop\n",
       "0 23.82428 0.5551196 6.267239 21.46051  13.19214\n",
       "1 20.97435 0.5541857 6.305509 21.64522  12.00617\n",
       "\n",
       "Coefficients of linear discriminants:\n",
       "                 LD1\n",
       "price     -0.2008033\n",
       "air_qual   1.2835689\n",
       "room_num   0.7159292\n",
       "teachers   0.2071702\n",
       "poor_prop -0.1694082"
      ]
     },
     "metadata": {},
     "output_type": "display_data"
    }
   ],
   "source": [
    "library(\"MASS\")\n",
    "lda.fit <- lda(Sold~ ., data=df3)\n",
    "lda.fit"
   ]
  },
  {
   "cell_type": "code",
   "execution_count": 100,
   "id": "3ee71d4c-7864-4862-8b73-c0abd3e019c6",
   "metadata": {
    "tags": []
   },
   "outputs": [
    {
     "data": {
      "text/html": [
       "<style>\n",
       ".list-inline {list-style: none; margin:0; padding: 0}\n",
       ".list-inline>li {display: inline-block}\n",
       ".list-inline>li:not(:last-child)::after {content: \"\\00b7\"; padding: 0 .5ex}\n",
       "</style>\n",
       "<ol class=list-inline><li>'class'</li><li>'posterior'</li><li>'x'</li></ol>\n"
      ],
      "text/latex": [
       "\\begin{enumerate*}\n",
       "\\item 'class'\n",
       "\\item 'posterior'\n",
       "\\item 'x'\n",
       "\\end{enumerate*}\n"
      ],
      "text/markdown": [
       "1. 'class'\n",
       "2. 'posterior'\n",
       "3. 'x'\n",
       "\n",
       "\n"
      ],
      "text/plain": [
       "[1] \"class\"     \"posterior\" \"x\"        "
      ]
     },
     "metadata": {},
     "output_type": "display_data"
    },
    {
     "data": {
      "text/plain": [
       "         \n",
       "lda.class   0   1\n",
       "        0 187  81\n",
       "        1  89 149"
      ]
     },
     "metadata": {},
     "output_type": "display_data"
    }
   ],
   "source": [
    "lda.pred <- predict(lda.fit, type=\"response\")\n",
    "names(lda.pred)\n",
    "lda.class <- lda.pred$class\n",
    "table(lda.class,df3$Sold)"
   ]
  },
  {
   "cell_type": "markdown",
   "id": "c6855499-9585-4bf7-977a-e3a833cb7f68",
   "metadata": {},
   "source": [
    "## QDA"
   ]
  },
  {
   "cell_type": "code",
   "execution_count": 44,
   "id": "06af3ed0-652e-4875-910a-c89c02cc2194",
   "metadata": {
    "tags": []
   },
   "outputs": [
    {
     "data": {
      "text/plain": [
       "Call:\n",
       "qda(Sold ~ ., data = df3)\n",
       "\n",
       "Prior probabilities of groups:\n",
       "        0         1 \n",
       "0.5454545 0.4545455 \n",
       "\n",
       "Group means:\n",
       "     price  air_qual room_num teachers poor_prop\n",
       "0 23.82428 0.5551196 6.267239 21.46051  13.19214\n",
       "1 20.97435 0.5541857 6.305509 21.64522  12.00617"
      ]
     },
     "metadata": {},
     "output_type": "display_data"
    }
   ],
   "source": [
    "qda.fit <- qda(Sold~ ., data=df3)\n",
    "qda.fit"
   ]
  },
  {
   "cell_type": "code",
   "execution_count": 63,
   "id": "563e8e21-75fe-4dfc-acf2-458392e6fdaa",
   "metadata": {
    "tags": []
   },
   "outputs": [
    {
     "data": {
      "text/plain": [
       "         \n",
       "qda.class   0   1\n",
       "        0 125  36\n",
       "        1 151 194"
      ]
     },
     "metadata": {},
     "output_type": "display_data"
    }
   ],
   "source": [
    "qda.pred <- predict(qda.fit, type=\"response\")\n",
    "qda.class <- qda.pred$class\n",
    "table(qda.class,df3$Sold)"
   ]
  },
  {
   "cell_type": "markdown",
   "id": "f7c422fc-79c5-4bb0-9f1e-730807e209f3",
   "metadata": {},
   "source": [
    "## Naive Bayess"
   ]
  },
  {
   "cell_type": "code",
   "execution_count": 47,
   "id": "045b4a6c-7afa-47a6-afe4-90f179b5b0a8",
   "metadata": {
    "tags": []
   },
   "outputs": [
    {
     "data": {
      "text/plain": [
       "\n",
       "Naive Bayes Classifier for Discrete Predictors\n",
       "\n",
       "Call:\n",
       "naiveBayes.default(x = X, y = Y, laplace = laplace)\n",
       "\n",
       "A-priori probabilities:\n",
       "Y\n",
       "        0         1 \n",
       "0.5454545 0.4545455 \n",
       "\n",
       "Conditional probabilities:\n",
       "   price\n",
       "Y       [,1]      [,2]\n",
       "  0 23.82428 10.553842\n",
       "  1 20.97435  6.908099\n",
       "\n",
       "   air_qual\n",
       "Y        [,1]      [,2]\n",
       "  0 0.5551196 0.1189847\n",
       "  1 0.5541857 0.1122919\n",
       "\n",
       "   room_num\n",
       "Y       [,1]      [,2]\n",
       "  0 6.267239 0.8121322\n",
       "  1 6.305509 0.5438879\n",
       "\n",
       "   teachers\n",
       "Y       [,1]     [,2]\n",
       "  0 21.46051 2.137645\n",
       "  1 21.64522 2.197686\n",
       "\n",
       "   poor_prop\n",
       "Y       [,1]     [,2]\n",
       "  0 13.19214 8.042625\n",
       "  1 12.00617 5.831644\n"
      ]
     },
     "metadata": {},
     "output_type": "display_data"
    }
   ],
   "source": [
    "library(\"e1071\")\n",
    "nb.fit <- naiveBayes(Sold~ ., data=df3)\n",
    "nb.fit"
   ]
  },
  {
   "cell_type": "code",
   "execution_count": 55,
   "id": "382ddfa3-feeb-4ff9-aba7-2611b1dbd17b",
   "metadata": {
    "tags": []
   },
   "outputs": [
    {
     "data": {
      "text/plain": [
       "        \n",
       "nb.class   0   1\n",
       "       0 121  51\n",
       "       1 155 179"
      ]
     },
     "metadata": {},
     "output_type": "display_data"
    }
   ],
   "source": [
    "nb.class <- predict(nb.fit,type=\"class\",newdata=df3)\n",
    "table(nb.class,df3$Sold)"
   ]
  },
  {
   "cell_type": "markdown",
   "id": "42bc1911-ceb1-4824-ae2a-6c4229d4e820",
   "metadata": {},
   "source": [
    "# KNN"
   ]
  },
  {
   "cell_type": "code",
   "execution_count": 101,
   "id": "a82e238e-4f5d-4b87-a058-64db219e4779",
   "metadata": {
    "tags": []
   },
   "outputs": [
    {
     "data": {
      "text/plain": [
       "        testY\n",
       "knn.pred  0  1\n",
       "       0 58 35\n",
       "       1 34 42"
      ]
     },
     "metadata": {},
     "output_type": "display_data"
    },
    {
     "data": {
      "text/html": [
       "0.591715976331361"
      ],
      "text/latex": [
       "0.591715976331361"
      ],
      "text/markdown": [
       "0.591715976331361"
      ],
      "text/plain": [
       "[1] 0.591716"
      ]
     },
     "metadata": {},
     "output_type": "display_data"
    }
   ],
   "source": [
    "library(\"class\")\n",
    "library(\"caTools\")\n",
    "split <- sample.split(df3, SplitRatio=0.8)\n",
    "train_set <- subset(df3, split == TRUE)\n",
    "test_set <- subset(df3, split == FALSE)\n",
    "trainX = train_set[,-6]\n",
    "testX = test_set[,-6]\n",
    "trainY = train_set$Sold\n",
    "testY = test_set$Sold\n",
    "knn.pred <- knn(trainX, testX, trainY, k=1)\n",
    "table(knn.pred, testY)\n",
    "mean(knn.pred==testY)"
   ]
  },
  {
   "cell_type": "code",
   "execution_count": 148,
   "id": "65987521-de41-4cdd-a6b4-b3da0cbf8e3b",
   "metadata": {
    "tags": []
   },
   "outputs": [
    {
     "data": {
      "text/plain": [
       "        testY\n",
       "knn.pred  0  1\n",
       "       0 60 32\n",
       "       1 32 45"
      ]
     },
     "metadata": {},
     "output_type": "display_data"
    },
    {
     "data": {
      "text/html": [
       "0.621301775147929"
      ],
      "text/latex": [
       "0.621301775147929"
      ],
      "text/markdown": [
       "0.621301775147929"
      ],
      "text/plain": [
       "[1] 0.6213018"
      ]
     },
     "metadata": {},
     "output_type": "display_data"
    }
   ],
   "source": [
    "knn.pred <- knn(trainX, testX, trainY, k=2)\n",
    "table(knn.pred, testY)\n",
    "mean(knn.pred==testY)"
   ]
  }
 ],
 "metadata": {
  "kernelspec": {
   "display_name": "R",
   "language": "R",
   "name": "ir"
  },
  "language_info": {
   "codemirror_mode": "r",
   "file_extension": ".r",
   "mimetype": "text/x-r-source",
   "name": "R",
   "pygments_lexer": "r",
   "version": "4.2.2"
  }
 },
 "nbformat": 4,
 "nbformat_minor": 5
}
